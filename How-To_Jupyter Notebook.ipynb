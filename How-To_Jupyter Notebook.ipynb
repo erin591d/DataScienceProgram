{
 "cells": [
  {
   "cell_type": "markdown",
   "metadata": {},
   "source": [
    "# How-To: Jupyter Notebook"
   ]
  },
  {
   "cell_type": "markdown",
   "metadata": {},
   "source": [
    "There are many ways to embed a Jupyter Notebook file into GitHub. I'm going to discuss two of them today:"
   ]
  },
  {
   "cell_type": "markdown",
   "metadata": {},
   "source": [
    "The first way is through the \"Add File\" button.\n",
    "- On your repo's main page, click \"Add File\".\n",
    "- On the dropdown that pops up, click \"Upload Files\".\n",
    "- On the page that appears, click \"choose your files\".\n",
    "- Choose the Jupyter Notebook file you would like to upload.\n",
    "- Click \"Commit Changes\".\n",
    "- Your Jupyter Notebook file is now embedded into your GitHub repo!"
   ]
  },
  {
   "cell_type": "markdown",
   "metadata": {},
   "source": [
    "The second way is through the terminal.\n",
    "\n",
    "- First, you must install Git which can be done by Googling \"Install Git\".\n",
    "- Setup your name and email in Git by running the following commands on the terminal:\n",
    "    - git config --global user.name \"Mona Lisa\"\n",
    "    - git config --global user.email \"email@example.com\"\n",
    "- On GitHub, click on the green \"Code\" button and copy the link that appears in the dropdown.\n",
    "- Clone the repo you just copied by running the following command on the terminal:\n",
    "    - git clone https://github.com/amit1rrr/projectA.git\n",
    "- Then, copy the notebook you want to push to GitHub to the directory where you just cloned the repo:\n",
    "    - cp /some/path/analysis1.ipynb /path/of/projectA/\n",
    "- Tell git to track the notebook you want to push:\n",
    "    - git add analysis1.ipynb\n",
    "- Commit the changes:\n",
    "    - git commit -m \"Adds customer data analysis notebook\"\n",
    "- Finally, push the commit to GitHub:\n",
    "    - git push\n",
    "- Your Jupyter Notebook file is now embedded into your GitHub repo!"
   ]
  }
 ],
 "metadata": {
  "kernelspec": {
   "display_name": "Python 3",
   "language": "python",
   "name": "python3"
  },
  "language_info": {
   "codemirror_mode": {
    "name": "ipython",
    "version": 3
   },
   "file_extension": ".py",
   "mimetype": "text/x-python",
   "name": "python",
   "nbconvert_exporter": "python",
   "pygments_lexer": "ipython3",
   "version": "3.8.3"
  }
 },
 "nbformat": 4,
 "nbformat_minor": 4
}
