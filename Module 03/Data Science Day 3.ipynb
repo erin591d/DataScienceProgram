{
 "cells": [
  {
   "cell_type": "markdown",
   "metadata": {},
   "source": [
    "# Data Science Day 3"
   ]
  },
  {
   "cell_type": "markdown",
   "metadata": {},
   "source": [
    "## Control Flow"
   ]
  },
  {
   "cell_type": "markdown",
   "metadata": {},
   "source": [
    "- With control flow, you can execute certain code blocks conditionally and/or repeatedly"
   ]
  },
  {
   "cell_type": "markdown",
   "metadata": {},
   "source": [
    "### Conditional Statements (if, elif, else)"
   ]
  },
  {
   "cell_type": "code",
   "execution_count": 1,
   "metadata": {},
   "outputs": [
    {
     "name": "stdout",
     "output_type": "stream",
     "text": [
      "0 is zero\n"
     ]
    }
   ],
   "source": [
    "x = 0\n",
    "\n",
    "if x == 0:\n",
    "    print(x, \"is zero\")\n",
    "elif x > 0:\n",
    "    print(x, \"is positive\")\n",
    "elif x < 0:\n",
    "    print(x, \"is negative\")\n",
    "else:\n",
    "    print(x, \"is unlike anything I have ever seen ...\")"
   ]
  },
  {
   "cell_type": "markdown",
   "metadata": {},
   "source": [
    "- Note the use of colons (:) and whitespace to denote separate blocks of code\n",
    "- elif means \"else if\""
   ]
  },
  {
   "cell_type": "markdown",
   "metadata": {},
   "source": [
    "### for loops"
   ]
  },
  {
   "cell_type": "markdown",
   "metadata": {},
   "source": [
    "- Loops are a way to repeatedly execute some code statement"
   ]
  },
  {
   "cell_type": "code",
   "execution_count": 2,
   "metadata": {},
   "outputs": [
    {
     "name": "stdout",
     "output_type": "stream",
     "text": [
      "2 3 5 7 "
     ]
    }
   ],
   "source": [
    "for N in [2, 3, 5, 7]:\n",
    "    print(N, end=' ') #print all on same line"
   ]
  },
  {
   "cell_type": "markdown",
   "metadata": {},
   "source": [
    "- In a for loop, we specify the variable we want to use, the sequence we want to loop over, and use the \"in\" operator to link them together in an intuitive and readable way\n",
    "    - The object to the right of the \"in\" can be any Python iterator\n",
    "        - An iterator can be thought of as a generalized sequence\n",
    "- One of the most commonly used iterators is the range object, which generates a sequence of numbers:"
   ]
  },
  {
   "cell_type": "code",
   "execution_count": 3,
   "metadata": {},
   "outputs": [
    {
     "name": "stdout",
     "output_type": "stream",
     "text": [
      "0 1 2 3 4 5 6 7 8 9 "
     ]
    }
   ],
   "source": [
    "for i in range(10):\n",
    "    print(i, end=' ')"
   ]
  },
  {
   "cell_type": "markdown",
   "metadata": {},
   "source": [
    "- Note that the range starts at 0 by default, and that by convention, the top of the range is not included in the output\n",
    "- Range objects can also have more complicated values:"
   ]
  },
  {
   "cell_type": "code",
   "execution_count": 4,
   "metadata": {},
   "outputs": [
    {
     "data": {
      "text/plain": [
       "[5, 6, 7, 8, 9]"
      ]
     },
     "execution_count": 4,
     "metadata": {},
     "output_type": "execute_result"
    }
   ],
   "source": [
    "#range from 5 to 10\n",
    "list(range(5, 10))"
   ]
  },
  {
   "cell_type": "code",
   "execution_count": 5,
   "metadata": {},
   "outputs": [
    {
     "data": {
      "text/plain": [
       "[0, 2, 4, 6, 8]"
      ]
     },
     "execution_count": 5,
     "metadata": {},
     "output_type": "execute_result"
    }
   ],
   "source": [
    "#range from 0 to 10 by 2\n",
    "list(range(0, 10, 2))"
   ]
  },
  {
   "cell_type": "markdown",
   "metadata": {},
   "source": [
    "- The meaning of range arguments is very similar to the slicing syntax in regard to lists"
   ]
  },
  {
   "cell_type": "markdown",
   "metadata": {},
   "source": [
    "### while loops"
   ]
  },
  {
   "cell_type": "markdown",
   "metadata": {},
   "source": [
    "- while loops iterate until some condition is met"
   ]
  },
  {
   "cell_type": "code",
   "execution_count": 6,
   "metadata": {},
   "outputs": [
    {
     "name": "stdout",
     "output_type": "stream",
     "text": [
      "0 1 2 3 4 5 6 7 8 9 "
     ]
    }
   ],
   "source": [
    "i = 0\n",
    "while i < 10:\n",
    "    print(i, end=' ')\n",
    "    i += 1"
   ]
  },
  {
   "cell_type": "markdown",
   "metadata": {},
   "source": [
    "- The argument of the while loop is evaluated as a Boolean statement, and the loop is executed until the statement evaluates to False"
   ]
  },
  {
   "cell_type": "markdown",
   "metadata": {},
   "source": [
    "### break and continue: Fine-Tuning Your Loops"
   ]
  },
  {
   "cell_type": "markdown",
   "metadata": {},
   "source": [
    "- The break statement breaks out of the loop entirely\n",
    "- The continue statement skips the remainder of the current loop, and goes to the next iteration\n",
    "\n",
    "- These can be used in both for and while loops"
   ]
  },
  {
   "cell_type": "code",
   "execution_count": 7,
   "metadata": {},
   "outputs": [
    {
     "name": "stdout",
     "output_type": "stream",
     "text": [
      "1 3 5 7 9 11 13 15 17 19 "
     ]
    }
   ],
   "source": [
    "for n in range(20):\n",
    "    # if the remainder of n / 2 is 0, skip the rest of the loop\n",
    "    if n % 2 == 0:\n",
    "        continue\n",
    "    print(n, end=' ')"
   ]
  },
  {
   "cell_type": "code",
   "execution_count": 8,
   "metadata": {},
   "outputs": [
    {
     "name": "stdout",
     "output_type": "stream",
     "text": [
      "[1, 1, 2, 3, 5, 8, 13, 21, 34, 55, 89]\n"
     ]
    }
   ],
   "source": [
    "a, b = 0, 1\n",
    "amax = 100\n",
    "L = []\n",
    "\n",
    "while True:\n",
    "    (a, b) = (b, a + b)\n",
    "    if a > amax:\n",
    "        break\n",
    "    L.append(a)\n",
    "\n",
    "print(L)"
   ]
  },
  {
   "cell_type": "markdown",
   "metadata": {},
   "source": [
    "- A while True loop loops forever unless we have a break statement"
   ]
  },
  {
   "cell_type": "markdown",
   "metadata": {},
   "source": [
    "### Loops with an else Block"
   ]
  },
  {
   "cell_type": "markdown",
   "metadata": {},
   "source": [
    "- The else block executes if all the if and elif statements evaluate to False\n",
    "    - The else block is executed only if the loop ends naturally, without encountering a break statement"
   ]
  },
  {
   "cell_type": "code",
   "execution_count": 13,
   "metadata": {},
   "outputs": [
    {
     "name": "stdout",
     "output_type": "stream",
     "text": [
      "[2, 3, 5, 7, 11, 13, 17, 19, 23, 29]\n"
     ]
    }
   ],
   "source": [
    "L = []\n",
    "nmax = 30\n",
    "\n",
    "for n in range(2, nmax):\n",
    "    for factor in L:\n",
    "        if n % factor == 0:\n",
    "            break\n",
    "    else: #no break\n",
    "        L.append(n)\n",
    "print(L)"
   ]
  },
  {
   "cell_type": "code",
   "execution_count": null,
   "metadata": {},
   "outputs": [],
   "source": [
    "from IPython.display import HTML\n",
    "\n",
    "#Youtube\n"
   ]
  },
  {
   "cell_type": "markdown",
   "metadata": {},
   "source": [
    "- The else statement only executes if none of the factors divide by the previous number"
   ]
  },
  {
   "cell_type": "markdown",
   "metadata": {},
   "source": [
    "## Statements"
   ]
  },
  {
   "cell_type": "markdown",
   "metadata": {},
   "source": [
    "- Statements are commands that have some effect\n",
    "- For example, a function call (that is not a part of another expression) is a statement and a variable assignment is a statement:"
   ]
  },
  {
   "cell_type": "code",
   "execution_count": 14,
   "metadata": {},
   "outputs": [],
   "source": [
    "i = 5\n",
    "i = i+1 #This is a common idiom to increase the value of i by 1\n",
    "i+= 1 #This is a short-hand for the above"
   ]
  },
  {
   "cell_type": "code",
   "execution_count": 15,
   "metadata": {},
   "outputs": [
    {
     "name": "stdout",
     "output_type": "stream",
     "text": [
      "7\n"
     ]
    }
   ],
   "source": [
    "print(i)"
   ]
  },
  {
   "cell_type": "markdown",
   "metadata": {},
   "source": [
    "### Loops for repetitive tasks"
   ]
  },
  {
   "cell_type": "code",
   "execution_count": 16,
   "metadata": {},
   "outputs": [
    {
     "name": "stdout",
     "output_type": "stream",
     "text": [
      "Square of 1 is 1\n",
      "Square of 2 is 4\n",
      "Square of 3 is 9\n",
      "Square of 4 is 16\n",
      "Square of 5 is 25\n",
      "Square of 6 is 36\n",
      "Square of 7 is 49\n",
      "Square of 8 is 64\n",
      "Square of 9 is 81\n",
      "Square of 10 is 100\n",
      "Square of 11 is 121\n",
      "Square of 12 is 144\n",
      "Square of 13 is 169\n",
      "Square of 14 is 196\n",
      "Square of 15 is 225\n",
      "Square of 16 is 256\n",
      "Square of 17 is 289\n",
      "Square of 18 is 324\n",
      "Square of 19 is 361\n",
      "Square of 20 is 400\n",
      "Square of 21 is 441\n",
      "Square of 22 is 484\n",
      "Square of 23 is 529\n",
      "Square of 24 is 576\n",
      "Square of 25 is 625\n",
      "Square of 26 is 676\n",
      "Square of 27 is 729\n",
      "Square of 28 is 784\n",
      "Square of 29 is 841\n",
      "Square of 30 is 900\n",
      "Square of 31 is 961\n",
      "Finished printing all the squares below 1000.\n"
     ]
    }
   ],
   "source": [
    "i = 1\n",
    "while i*i < 1000:\n",
    "    print(\"Square of\", i, \"is\", i*i)\n",
    "    i = i + 1\n",
    "print(\"Finished printing all the squares below 1000.\")"
   ]
  },
  {
   "cell_type": "code",
   "execution_count": 17,
   "metadata": {},
   "outputs": [
    {
     "name": "stdout",
     "output_type": "stream",
     "text": [
      "The sum is 45\n"
     ]
    }
   ],
   "source": [
    "s = 0\n",
    "for i in [0, 1, 2, 3, 4, 5, 6, 7, 8, 9]:\n",
    "    s = s + i\n",
    "print(\"The sum is\", s)"
   ]
  },
  {
   "cell_type": "markdown",
   "metadata": {},
   "source": [
    "- The for loop executes the statements in the block as many times as there are elements in the given list\n",
    "- At each iteration, the variable i refers to another value from the list in order\n",
    "- Instead, we could have used the generator range(10) which returns values from the sequence 0, ..., 9 as the for loop asks for a new value\n",
    "- The for loop goes through all the elements in an iterable"
   ]
  },
  {
   "cell_type": "markdown",
   "metadata": {},
   "source": [
    "### Decision making with the if statement"
   ]
  },
  {
   "cell_type": "code",
   "execution_count": 18,
   "metadata": {},
   "outputs": [
    {
     "name": "stdout",
     "output_type": "stream",
     "text": [
      "Give an integer: -1\n",
      "The absolute value of -1 is 1\n"
     ]
    }
   ],
   "source": [
    "x=input(\"Give an integer: \")\n",
    "x=int(x)\n",
    "if x >= 0:\n",
    "    a=x\n",
    "else:\n",
    "    a=-x\n",
    "print(\"The absolute value of %i is %i\" % (x, a))"
   ]
  },
  {
   "cell_type": "code",
   "execution_count": 19,
   "metadata": {},
   "outputs": [
    {
     "name": "stdout",
     "output_type": "stream",
     "text": [
      "Give a number: 0\n",
      "c is zero\n"
     ]
    }
   ],
   "source": [
    "c=float(input(\"Give a number: \"))\n",
    "if c > 0:\n",
    "    print(\"c is positive\")\n",
    "elif c<0:\n",
    "    print(\"c is negative\")\n",
    "else:\n",
    "    print(\"c is zero\")"
   ]
  },
  {
   "cell_type": "markdown",
   "metadata": {},
   "source": [
    "### Breaking and continuing loop"
   ]
  },
  {
   "cell_type": "code",
   "execution_count": 20,
   "metadata": {},
   "outputs": [
    {
     "name": "stdout",
     "output_type": "stream",
     "text": [
      "The first negative list element was -1\n"
     ]
    }
   ],
   "source": [
    "l = [1, 3, 65, 3, -1, 56, -10]\n",
    "for x in l:\n",
    "    if x < 0:\n",
    "        break\n",
    "print(\"The first negative list element was\", x)"
   ]
  },
  {
   "cell_type": "markdown",
   "metadata": {},
   "source": [
    "## Functions"
   ]
  },
  {
   "cell_type": "markdown",
   "metadata": {},
   "source": [
    "- A function is defined with the def statement"
   ]
  },
  {
   "cell_type": "code",
   "execution_count": 21,
   "metadata": {},
   "outputs": [
    {
     "name": "stdout",
     "output_type": "stream",
     "text": [
      "8 2.4 abcabc\n"
     ]
    }
   ],
   "source": [
    "def double(x):\n",
    "    \"This function multiplies its argument by two.\"\n",
    "    return x*2\n",
    "print(double(4), double(1.2), double(\"abc\")) #it even happens to work for strings!"
   ]
  },
  {
   "cell_type": "markdown",
   "metadata": {},
   "source": [
    "- The double function only takes one parameter\n",
    "- The docstring documents the purpose and usage of the function"
   ]
  },
  {
   "cell_type": "code",
   "execution_count": 22,
   "metadata": {},
   "outputs": [
    {
     "name": "stdout",
     "output_type": "stream",
     "text": [
      "The docstring is: This function multiplies its argument by two.\n",
      "Help on function double in module __main__:\n",
      "\n",
      "double(x)\n",
      "    This function multiplies its argument by two.\n",
      "\n"
     ]
    }
   ],
   "source": [
    "print(\"The docstring is:\", double.__doc__)\n",
    "help(double) #another way to access the docstring"
   ]
  },
  {
   "cell_type": "markdown",
   "metadata": {},
   "source": [
    "- Most of Python's built-in functions, classes, and modules should contain a docstring"
   ]
  },
  {
   "cell_type": "code",
   "execution_count": 23,
   "metadata": {},
   "outputs": [
    {
     "name": "stdout",
     "output_type": "stream",
     "text": [
      "Help on built-in function print in module builtins:\n",
      "\n",
      "print(...)\n",
      "    print(value, ..., sep=' ', end='\\n', file=sys.stdout, flush=False)\n",
      "    \n",
      "    Prints the values to a stream, or to sys.stdout by default.\n",
      "    Optional keyword arguments:\n",
      "    file:  a file-like object (stream); defaults to the current sys.stdout.\n",
      "    sep:   string inserted between values, default a space.\n",
      "    end:   string appended after the last value, default a newline.\n",
      "    flush: whether to forcibly flush the stream.\n",
      "\n"
     ]
    }
   ],
   "source": [
    "help(print)"
   ]
  },
  {
   "cell_type": "code",
   "execution_count": 24,
   "metadata": {},
   "outputs": [
    {
     "name": "stdout",
     "output_type": "stream",
     "text": [
      "25\n"
     ]
    }
   ],
   "source": [
    "def sum_of_squares(a, b):\n",
    "    \"Computes the sum of arguments squared\"\n",
    "    return a**2 + b**2\n",
    "\n",
    "#call function and pass values into it\n",
    "print(sum_of_squares(3, 4))"
   ]
  },
  {
   "cell_type": "markdown",
   "metadata": {},
   "source": [
    "- It would be nice if the number of arguments could be arbitrary\n",
    "- To do this, we can pass a list to the function as a parameter"
   ]
  },
  {
   "cell_type": "code",
   "execution_count": 25,
   "metadata": {},
   "outputs": [
    {
     "name": "stdout",
     "output_type": "stream",
     "text": [
      "4\n",
      "45\n"
     ]
    }
   ],
   "source": [
    "def sum_of_squares(lst):\n",
    "    \"Computers the sum of squares of elements in the list given as a parameter\"\n",
    "    s=0\n",
    "    for x in lst:\n",
    "        s += x**2\n",
    "    return s\n",
    "print(sum_of_squares([-2]))\n",
    "print(sum_of_squares([-2,4,5]))"
   ]
  },
  {
   "cell_type": "code",
   "execution_count": 26,
   "metadata": {},
   "outputs": [
    {
     "name": "stdout",
     "output_type": "stream",
     "text": [
      "4\n",
      "45\n"
     ]
    }
   ],
   "source": [
    "def sum_of_squares(*t):\n",
    "    \"Computers the sum of squares of arbitrary number of arguments\"\n",
    "    s=0\n",
    "    for x in t:\n",
    "        s += x**2\n",
    "    return s\n",
    "print(sum_of_squares(-2))\n",
    "print(sum_of_squares(-2,4,5))"
   ]
  },
  {
   "cell_type": "markdown",
   "metadata": {},
   "source": [
    "- The argument notation star is called argument packing - it packs all the given positional arguments into a tuple t\n",
    "    - Tuples are immutable lists\n",
    "    - With the for loop, we can iterate through all the elements in a tuple\n",
    "- There is also syntax for argument unpacking, which is also the star, but it is placed in a different location\n",
    "    - Packing happens in the parameter list of the functions definition and unpacking happens where the function is called"
   ]
  },
  {
   "cell_type": "code",
   "execution_count": 27,
   "metadata": {},
   "outputs": [
    {
     "name": "stdout",
     "output_type": "stream",
     "text": [
      "With list unpacked as arguments to the functions: 90\n"
     ]
    }
   ],
   "source": [
    "lst=[1,5,8]\n",
    "print(\"With list unpacked as arguments to the functions:\", sum_of_squares(*lst))\n",
    "#print(sum_of_squares(lst)) does not work correctly"
   ]
  },
  {
   "cell_type": "markdown",
   "metadata": {},
   "source": [
    "- The second call failed because the function tried to raise the list of numbers to the second power\n",
    "    - Inside the function body, we have t=([1,5,8]), where the parenthese denote a tuple with one element, a list\n",
    "- A function call can also have named arguments"
   ]
  },
  {
   "cell_type": "code",
   "execution_count": 28,
   "metadata": {},
   "outputs": [
    {
     "name": "stdout",
     "output_type": "stream",
     "text": [
      "First: 5 Second: 8 Third: 7\n"
     ]
    }
   ],
   "source": [
    "def named(a, b, c):\n",
    "    print(\"First:\", a, \"Second:\", b, \"Third:\", c)\n",
    "named(5, c=7, b=8)"
   ]
  },
  {
   "cell_type": "markdown",
   "metadata": {},
   "source": [
    "- Note that the named arguments didn't need to be in the same order as in the function definition, but the named arguments must come after all other arguments\n",
    "- For example, named(a=5, 7, 8) is illegal\n",
    "- One can also specify an optional parameter by giving the parameter a default value\n",
    "    - The parameters that have default values must come after the parameters that don't\n",
    "    - If some default values don't suit us, we can give them in the function call using the name of the parameter"
   ]
  },
  {
   "cell_type": "code",
   "execution_count": 29,
   "metadata": {},
   "outputs": [
    {
     "name": "stdout",
     "output_type": "stream",
     "text": [
      "1 -*- 2 -*- 3 |first -*- second -*- third |"
     ]
    }
   ],
   "source": [
    "print(1, 2, 3, end=' |', sep=' -*- ')\n",
    "print(\"first\", \"second\", \"third\", end=' |', sep=' -*- ')"
   ]
  },
  {
   "cell_type": "markdown",
   "metadata": {},
   "source": [
    "- We do not need to specify all the parameters with default values, just the ones we want to change"
   ]
  },
  {
   "cell_type": "code",
   "execution_count": 30,
   "metadata": {},
   "outputs": [
    {
     "name": "stdout",
     "output_type": "stream",
     "text": [
      "5.0\n",
      "4.497941445275415\n"
     ]
    }
   ],
   "source": [
    "def length(*t, degree=2):\n",
    "    \"\"\"Computes the length of the vector given as parameter. By default, \n",
    "    it computes the Euclidean distance (degree==2)\"\"\"\n",
    "    s=0\n",
    "    for x in t:\n",
    "        s += abs(x)**degree\n",
    "    return s**(1/degree)\n",
    "print(length(-4,3))\n",
    "print(length(-4,3,degree=3))"
   ]
  },
  {
   "cell_type": "markdown",
   "metadata": {},
   "source": [
    "- It is possible to use packing and unpacking of arguments with the star notation when one wants to specify arbitrary number of positional arguments\n",
    "- This is also possible for arbitrary number of named arguments with the double star notation"
   ]
  },
  {
   "cell_type": "markdown",
   "metadata": {},
   "source": [
    "### Visibility of Variables"
   ]
  },
  {
   "cell_type": "markdown",
   "metadata": {},
   "source": [
    "- Function definition creates a new namespace (or local scope)\n",
    "- Variables created inside this scope are not available from outside the function definition\n",
    "- Also, the function parameters are only visible inside the function definition\n",
    "- Variables that are not defined inside any function are called global variables\n",
    "- Global variables are readable in local scopes, but an assignment creates a new local variable without rebinding the global variable\n",
    "- If we are inside a function, a local variable hides a global variable by the same name:"
   ]
  },
  {
   "cell_type": "code",
   "execution_count": 31,
   "metadata": {},
   "outputs": [
    {
     "name": "stdout",
     "output_type": "stream",
     "text": [
      "3\n",
      "2\n"
     ]
    }
   ],
   "source": [
    "i=2 #global variable\n",
    "def f():\n",
    "    i=3 #this creates a new variable, it does not rebind the global i\n",
    "    print(i) #this will print 3\n",
    "f()\n",
    "print(i) #this will print 2"
   ]
  },
  {
   "cell_type": "markdown",
   "metadata": {},
   "source": [
    "- If you need to rebind a global variable from a function, use the global statement:"
   ]
  },
  {
   "cell_type": "code",
   "execution_count": 32,
   "metadata": {},
   "outputs": [
    {
     "name": "stdout",
     "output_type": "stream",
     "text": [
      "5\n",
      "5\n"
     ]
    }
   ],
   "source": [
    "i=2\n",
    "def f():\n",
    "    global i\n",
    "    i=5 #rebind the global i variable\n",
    "    print(i) #this will print 5\n",
    "f()\n",
    "print(i) #this will print 5"
   ]
  },
  {
   "cell_type": "markdown",
   "metadata": {},
   "source": [
    "- Python allows defining a function inside another function\n",
    "    - This nested function will have nested scope"
   ]
  },
  {
   "cell_type": "code",
   "execution_count": 37,
   "metadata": {},
   "outputs": [
    {
     "name": "stdout",
     "output_type": "stream",
     "text": [
      "3\n",
      "2\n"
     ]
    }
   ],
   "source": [
    "def f(): #outer function\n",
    "    b=2\n",
    "    def g(): #inner function\n",
    "        # nonlocal b # without this nonlocal statement\n",
    "        b=3 #this will create a new local variable\n",
    "        print(b)\n",
    "    g()\n",
    "    print(b)\n",
    "f()"
   ]
  },
  {
   "cell_type": "markdown",
   "metadata": {},
   "source": [
    "### Recursion"
   ]
  },
  {
   "cell_type": "markdown",
   "metadata": {},
   "source": [
    "- Python accepts function recursion, which means a defined function can call itself"
   ]
  },
  {
   "cell_type": "markdown",
   "metadata": {},
   "source": [
    "#### Tower of Hanoi (Python Problem)"
   ]
  },
  {
   "cell_type": "code",
   "execution_count": 40,
   "metadata": {},
   "outputs": [],
   "source": [
    "def TowerOfHanoi(n, source, destination, auxilliary):\n",
    "    if n == 1:\n",
    "        print(\"Move disk 1 from source\", source, \"to destination\", destination)\n",
    "        return\n",
    "    TowerOfHanoi(n-1, source, auxilliary, destination)\n",
    "    print(\"Move disk\", n, \"from source\", source, \"to destination\", destination)\n",
    "    TowerOfHanoi(n-1, auxilliary, destination, source)"
   ]
  },
  {
   "cell_type": "code",
   "execution_count": 41,
   "metadata": {},
   "outputs": [
    {
     "name": "stdout",
     "output_type": "stream",
     "text": [
      "Move disk 1 from source A to destination C\n",
      "Move disk 2 from source A to destination B\n",
      "Move disk 1 from source C to destination B\n",
      "Move disk 3 from source A to destination C\n",
      "Move disk 1 from source B to destination A\n",
      "Move disk 2 from source B to destination C\n",
      "Move disk 1 from source A to destination C\n",
      "Move disk 4 from source A to destination B\n",
      "Move disk 1 from source C to destination B\n",
      "Move disk 2 from source C to destination A\n",
      "Move disk 1 from source B to destination A\n",
      "Move disk 3 from source C to destination B\n",
      "Move disk 1 from source A to destination C\n",
      "Move disk 2 from source A to destination B\n",
      "Move disk 1 from source C to destination B\n"
     ]
    }
   ],
   "source": [
    "#driver code\n",
    "n = 4\n",
    "TowerOfHanoi(n, 'A', 'B', 'C')\n",
    "#A, B, C are the names of the rods"
   ]
  }
 ],
 "metadata": {
  "kernelspec": {
   "display_name": "Python 3",
   "language": "python",
   "name": "python3"
  },
  "language_info": {
   "codemirror_mode": {
    "name": "ipython",
    "version": 3
   },
   "file_extension": ".py",
   "mimetype": "text/x-python",
   "name": "python",
   "nbconvert_exporter": "python",
   "pygments_lexer": "ipython3",
   "version": "3.8.3"
  }
 },
 "nbformat": 4,
 "nbformat_minor": 4
}
