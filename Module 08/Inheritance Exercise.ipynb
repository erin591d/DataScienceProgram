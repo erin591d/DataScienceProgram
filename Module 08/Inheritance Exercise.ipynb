{
 "cells": [
  {
   "cell_type": "markdown",
   "metadata": {},
   "source": [
    "# Inheritance Exercise"
   ]
  },
  {
   "cell_type": "code",
   "execution_count": 17,
   "metadata": {},
   "outputs": [
    {
     "name": "stdout",
     "output_type": "stream",
     "text": [
      "Please enter your first name: Erin\n",
      "Please enter your last name: McConnell\n",
      "Please enter your student ID number: 59\n",
      "Please enter an array of test scores: 100 100 100 100\n",
      "Erin McConnell , student ID 59 , got a(n) A this year.\n"
     ]
    }
   ],
   "source": [
    "class Person:\n",
    "    firstname = \"\"\n",
    "    lastname = \"\"\n",
    "    \n",
    "    def __init__(self, firstname, lastname):\n",
    "        self.firstname = firstname\n",
    "        self.lastname = lastname\n",
    "        \n",
    "class Student(Person):\n",
    "    student_id = 0\n",
    "    scores = []\n",
    "    \n",
    "    def __init__(self, firstname, lastname, student_id, scores):\n",
    "        super().__init__(firstname, lastname)\n",
    "        self.student_id = student_id\n",
    "        self.scores = scores\n",
    "        \n",
    "    def __average__(self, scores):\n",
    "        average = sum(scores)/len(scores)\n",
    "        return average\n",
    "        \n",
    "    def __calculate__(self, average):\n",
    "        if 90 <= average <= 100:\n",
    "            return \"A\"\n",
    "        elif 80 <= average <= 89:\n",
    "            return \"B\"\n",
    "        elif 70 <= average <= 79:\n",
    "            return \"C\"\n",
    "        elif 60 <= average <= 69:\n",
    "            return \"D\"\n",
    "        else:\n",
    "            return \"F\"\n",
    "    \n",
    "firstname = input(\"Please enter your first name: \")\n",
    "lastname = input(\"Please enter your last name: \")\n",
    "student_id = int(input(\"Please enter your student ID number: \"))\n",
    "scores = list(map(int, input(\"Please enter an array of test scores: \").split()))\n",
    "\n",
    "student1 = Student(firstname, lastname, student_id, scores)\n",
    "average = student1.__average__(scores)\n",
    "grade = student1.__calculate__(average)\n",
    "print(firstname, lastname, \", student ID\", student_id, \", got a(n)\", grade, \"this year.\")"
   ]
  }
 ],
 "metadata": {
  "kernelspec": {
   "display_name": "Python 3",
   "language": "python",
   "name": "python3"
  },
  "language_info": {
   "codemirror_mode": {
    "name": "ipython",
    "version": 3
   },
   "file_extension": ".py",
   "mimetype": "text/x-python",
   "name": "python",
   "nbconvert_exporter": "python",
   "pygments_lexer": "ipython3",
   "version": "3.8.3"
  }
 },
 "nbformat": 4,
 "nbformat_minor": 4
}
