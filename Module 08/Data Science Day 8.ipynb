{
 "cells": [
  {
   "cell_type": "markdown",
   "metadata": {},
   "source": [
    "# Data Science Day 8"
   ]
  },
  {
   "cell_type": "markdown",
   "metadata": {},
   "source": [
    "## Inheritance"
   ]
  },
  {
   "cell_type": "markdown",
   "metadata": {},
   "source": [
    "- Inheritance allows us to reuse the code of an existing class B in creating a new class C\n",
    "- When looking for an attribute, the lookup procedure starts with the instance dictionary, and continues with the class attributes\n",
    "- If both fail, then the attribute is search from the base classes and, recursively, from their base classes\n",
    "- It may look like we access an attribute of a class C, when in reality we are accessing the attribute of its base class B\n",
    "- In this case we say that the class C inherits the attribute from its base class B\n",
    "- If we have attributes with the same name in both the class and its base class, the attribute of the base class is hidden\n",
    "- We say that the class C overrides the attribute of the base class B\n",
    "    - B is a base class and C is a derived class"
   ]
  },
  {
   "cell_type": "code",
   "execution_count": 1,
   "metadata": {},
   "outputs": [],
   "source": [
    "class B(object):\n",
    "    def f(self):\n",
    "        print(\"Executing B.f\")\n",
    "    def g(self):\n",
    "        print(\"Executing B.g\")\n",
    "        \n",
    "class C(B):\n",
    "    def g(self):\n",
    "        print(\"Executing C.g\")"
   ]
  },
  {
   "cell_type": "markdown",
   "metadata": {},
   "source": [
    "- A derived class is sometimes also called a subclass and the base class is called a super class\n",
    "- The inheritance relation of two classes B and C can be tested with function issubclass: issubclass(C,B)==True but issubclass(B,C)==False\n",
    "- Function isinstance(obj, cls) allows us to test whether an instance has type cls or has an isinstance(x,C)==isinstance(y,B)==True, but isinstance(y,C)==False"
   ]
  },
  {
   "cell_type": "code",
   "execution_count": 2,
   "metadata": {},
   "outputs": [],
   "source": [
    "x=C()"
   ]
  },
  {
   "cell_type": "code",
   "execution_count": 3,
   "metadata": {},
   "outputs": [
    {
     "name": "stdout",
     "output_type": "stream",
     "text": [
      "Executing B.f\n"
     ]
    }
   ],
   "source": [
    "x.f() #inherited from B"
   ]
  },
  {
   "cell_type": "code",
   "execution_count": 4,
   "metadata": {},
   "outputs": [
    {
     "name": "stdout",
     "output_type": "stream",
     "text": [
      "Executing C.g\n"
     ]
    }
   ],
   "source": [
    "x.g() #overridden by C"
   ]
  },
  {
   "cell_type": "markdown",
   "metadata": {},
   "source": [
    "### Dunder __mro__"
   ]
  },
  {
   "cell_type": "code",
   "execution_count": 5,
   "metadata": {},
   "outputs": [
    {
     "name": "stdout",
     "output_type": "stream",
     "text": [
      "(<class '__main__.B'>, <class 'object'>)\n",
      "[<class '__main__.C'>, <class '__main__.B'>, <class 'object'>]\n"
     ]
    }
   ],
   "source": [
    "print(B.__mro__)\n",
    "print(C.mro())"
   ]
  },
  {
   "cell_type": "markdown",
   "metadata": {},
   "source": [
    "- object should be a base class or an ancestor class of every other class\n",
    "    - This means that isinstance(x, object)==True for all instances x\n",
    "- By deriving from an existing class we can modify and/or extend its behavior without touching the original class\n",
    "- For example, if we want to add one method to a list class, we can use inheritance\n",
    "    - Therefore, we have to only code the part that has changed and reuse the rest of the code of type list\n",
    "- Another use of inheritance is to create conceptual hierarchies\n",
    "- Third use would be to use classes to create interfaces\n",
    "- There can be several classes that have the same interface (that is, they offer the same attributes), but their behavior or implementation can be very different\n",
    "- This allows changing a part of your program with minimal changes required elsewhere in the code"
   ]
  },
  {
   "cell_type": "markdown",
   "metadata": {},
   "source": [
    "#### Special methods"
   ]
  },
  {
   "cell_type": "markdown",
   "metadata": {},
   "source": [
    "- We have already encountered one special method, namely the __init__ method\n",
    "    - This method sets the instance attributes to some initial value\n",
    "    - Its first parameter is self, and the subsequent parameters are the ones that were passed to the call of the class\n",
    "    - The __init__ method should return no value\n",
    "- The main general purpose special methods are executed when certain operations on objects are performed\n",
    "- C is a class and x and y are its instances: __hash__ returns an int value, with the following requirement: x==y implies x.__hash__() == y.__hash__()\n",
    "- The value is used in storing objects in dictionaries and sets\n",
    "- The instances x and y must be immutable A class with __call__ method makes its instances callable i.e., the call x(a,b,...) will result in calling this special method with the given parameters\n",
    "- The method __del__ gets called when the corresponding instance gets deleted\n",
    "- Method __new__ is used to control the creation of new instances\n",
    "    - It can be used to create classes that have only one instance\n",
    "- The method __str__ is called when the print statement needs to print the value of an instance\n",
    "    - It returns a string\n",
    "    - The print-format expression calls for this conversion %s\n",
    "- The expression x+y will result in a call x.__add__(y) which should return the result of the operation\n",
    "- Here are a few of the most common numerical special methods:\n",
    "    - __add__: addition (+)\n",
    "    - __sub__: subtraction (-)\n",
    "    - __mul__: multiplication (\\*)\n",
    "    - __truediv__: division (/)\n",
    "    - __floordiv__: division (//)\n",
    "- __complex__: convert to a complex number\n",
    "- __float__: convert to a float\n",
    "- __int__: convert to an integer\n",
    "- In addition to the normal methods of containers, like the append method of the list, there are several operations that are handled by calls to special methods of the container class\n",
    "- The test whether x is a member of container c is done by the operation x in c"
   ]
  },
  {
   "cell_type": "code",
   "execution_count": 6,
   "metadata": {},
   "outputs": [
    {
     "name": "stdout",
     "output_type": "stream",
     "text": [
      "Constructor C\n",
      "(<class '__main__.C'>, <class '__main__.A'>, <class '__main__.B'>, <class 'object'>)\n",
      "[<class '__main__.C'>, <class '__main__.A'>, <class '__main__.B'>, <class 'object'>]\n"
     ]
    }
   ],
   "source": [
    "class A: \n",
    "    def rk(self): \n",
    "        print(\" In class A\") \n",
    "class B: \n",
    "    def rk(self): \n",
    "        print(\" In class B\") \n",
    "  \n",
    "# classes ordering \n",
    "class C(A, B): \n",
    "    def __init__(self): \n",
    "        print(\"Constructor C\") \n",
    "  \n",
    "r = C() \n",
    "  \n",
    "# it prints the lookup order  \n",
    "print(C.__mro__) \n",
    "print(C.mro())"
   ]
  },
  {
   "cell_type": "markdown",
   "metadata": {},
   "source": [
    "## Python super() function"
   ]
  },
  {
   "cell_type": "markdown",
   "metadata": {},
   "source": [
    "- Python super() function allows us to refer to the parent class explicitly\n",
    "- It's useful in the case of inheritance where we want to call super class functions\n",
    "    - Python super makes our task easier and comfortable\n",
    "- While referring to the super class from the subclass, we don't need to write the name of the super class explicitly, super() alone returns a temporary object of the super class that then allows you to call that super class's methods    "
   ]
  },
  {
   "cell_type": "code",
   "execution_count": 7,
   "metadata": {},
   "outputs": [
    {
     "name": "stdout",
     "output_type": "stream",
     "text": [
      "23\n",
      "102\n",
      "Max\n"
     ]
    }
   ],
   "source": [
    "class Person:\n",
    "    #initializing the variables\n",
    "    name = \"\"\n",
    "    age = 0\n",
    "    \n",
    "    #defining constructor\n",
    "    def __init__(self, person_name, person_age):\n",
    "        self.name = person_name\n",
    "        self.age = person_age\n",
    "    \n",
    "    #defining class methods\n",
    "    def show_name(self):\n",
    "        print(self.name)\n",
    "        \n",
    "    def show_age(self):\n",
    "        print(self.age)\n",
    "        \n",
    "#definition of subclass starts here\n",
    "class Student(Person):\n",
    "    studentId = \"\"\n",
    "    \n",
    "    def __init__(self, student_name, student_age, student_id):\n",
    "        Person.__init__(self, student_name, student_age)\n",
    "        self.studentId = student_id\n",
    "        \n",
    "    def get_id(self):\n",
    "        return self.studentId #returns the value of student id\n",
    "    \n",
    "#end of subclass definition\n",
    "\n",
    "#create an object of the super class\n",
    "person1 = Person(\"Richard\", 23)\n",
    "#call member methods of the objects\n",
    "person1.show_age()\n",
    "#create an object of the subclass\n",
    "student1 = Student(\"Max\", 22, \"102\")\n",
    "print(student1.get_id())\n",
    "student1.show_name()"
   ]
  },
  {
   "cell_type": "code",
   "execution_count": null,
   "metadata": {},
   "outputs": [],
   "source": [
    "#this is how we have called the parent class function above\n",
    "Person.__init__(self, student_name, student_age)\n",
    "\n",
    "#this is how we can do it using super()\n",
    "super().__init__(student_name, student_age)"
   ]
  }
 ],
 "metadata": {
  "kernelspec": {
   "display_name": "Python 3",
   "language": "python",
   "name": "python3"
  },
  "language_info": {
   "codemirror_mode": {
    "name": "ipython",
    "version": 3
   },
   "file_extension": ".py",
   "mimetype": "text/x-python",
   "name": "python",
   "nbconvert_exporter": "python",
   "pygments_lexer": "ipython3",
   "version": "3.8.3"
  }
 },
 "nbformat": 4,
 "nbformat_minor": 4
}
