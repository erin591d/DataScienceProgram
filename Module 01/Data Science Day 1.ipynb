{
 "cells": [
  {
   "cell_type": "markdown",
   "metadata": {},
   "source": [
    "# Data Science Day 1"
   ]
  },
  {
   "cell_type": "markdown",
   "metadata": {},
   "source": [
    "## Basic Python Syntax"
   ]
  },
  {
   "cell_type": "code",
   "execution_count": null,
   "metadata": {},
   "outputs": [],
   "source": [
    "# set the midpoint\n",
    "midpoint = 5\n",
    "\n",
    "# make two empty lists\n",
    "lower = []; upper = []\n",
    "\n",
    "# split the numbers into lower and upper\n",
    "for i in range(10):\n",
    "    if (i < midpoint):\n",
    "        lower.append(i)\n",
    "    else\n",
    "        upper.append(i)\n",
    "        \n",
    "print(\"lower:\", lower)\n",
    "print(\"upper:\", upper)"
   ]
  },
  {
   "cell_type": "markdown",
   "metadata": {},
   "source": [
    "- Anything following a # is a comment. Comments are ignored by the interpreter.\n",
    "- End-of-line terminates a statement.\n",
    "- If you want a statement to continue to the next line, use the \"\\\" marker or parentheses to indicate that.\n",
    "- Using a semicolon (;) can be used to put multiple statements on a single line.\n",
    "- Whitespace matters!\n",
    "    - A block of code is a set of statements that should be treated as a unit.\n",
    "    - Code blocks are denoted by indentation.\n",
    "- However, whitespace within lines doesn't matter.\n",
    "- Parentheses are for grouping or calling.\n",
    "    - They can be used to group statements or mathematical operations.\n",
    "    - They can also be used to indicate that a function is being called.\n",
    "        - Eg.: the print( ) function is used to display the contents of a variable. The function call is indicated by a pair of opening and closing parentheses, with the arguments to the function contained within.\n",
    "    - Some functions can be called with no arguments at all, but the opening and closing parentheses must still be used to indicate it is a function.\n",
    "        - Eg.: the sort( ) function sorts a list and doesn't require any arguments. "
   ]
  },
  {
   "cell_type": "markdown",
   "metadata": {},
   "source": [
    "## Variables and Objects"
   ]
  },
  {
   "cell_type": "markdown",
   "metadata": {},
   "source": [
    "- To assign a variable in Python, put a variable name to the left of an equal (=) sign.\n",
    "    - Variable names can point to objects of any type.\n",
    "        - Eg.: x can equal an integer, a string, a list, etc.\n",
    "    - If there are two variable names that point to the same mutable (can be changed) object, then changing one variable will change the other variable as well.\n",
    "- Numbers, strings, and other simple types are immutable: their values can't be changed; you can only change what values the variables point to.\n",
    "- Everything is an object in Python.\n",
    "    - An object is an entity that contains data along with associated metadata and/or functionality.\n",
    "    - Every entity has some metadata (called attributes) and associated functionality (called methods).\n",
    "        - These attributes and methods are accessed via the dot syntax"
   ]
  },
  {
   "cell_type": "code",
   "execution_count": 2,
   "metadata": {},
   "outputs": [
    {
     "name": "stdout",
     "output_type": "stream",
     "text": [
      "[1, 2, 3, 100]\n"
     ]
    }
   ],
   "source": [
    "L = [1, 2, 3]\n",
    "L.append(100)\n",
    "print(L)"
   ]
  },
  {
   "cell_type": "markdown",
   "metadata": {},
   "source": [
    "- Examples of types in Python: integer, string, float.\n",
    "- Methods are like attributes, except that they are functions you can call on using opening and closing parentheses.\n",
    "- Everything is an object in Python, even the attributes and methods of objects themselves."
   ]
  },
  {
   "cell_type": "markdown",
   "metadata": {},
   "source": [
    "## Operators"
   ]
  },
  {
   "cell_type": "markdown",
   "metadata": {},
   "source": [
    "- Arithmetic operators:\n",
    "    - Addition: a + b\n",
    "    - Subtraction: a - b\n",
    "    - Multiplication: a * b\n",
    "    - True division: a / b\n",
    "    - Floor division (removes fractional parts): a // b\n",
    "    - Modulus (integer remainder after division of a by b): a % b\n",
    "    - Exponentiation: a ** b\n",
    "    - Negation: -a\n",
    "    - Matrix product: a @ b\n",
    "- Bitwise operators:\n",
    "    - Bitwise AND: a & b\n",
    "    - Bitwise OR: a | b\n",
    "    - Bitwise XOR: a ^ b\n",
    "    - Bit shift left: a << b\n",
    "    - Bit shift right: a >> b\n",
    "    - Bitwise NOT: ~a\n",
    "- Bitwise operators only make sense in term of the binary representation of numbers, which you can see using the bin function.\n",
    "- To update a variable with a new value, you can combine the operation and the assignment:\n",
    "    - a += b, a -= b, etc. which are equivalent to the corresponding operation followed by the assignment.\n",
    "- Comparison operators:\n",
    "    - a == b: a equal to b\n",
    "    - a < b: a less than b\n",
    "    - a <= b: a less than or equal to b\n",
    "    - a != b: a not equal to b\n",
    "    - a > b: a greater than b\n",
    "    - a >= b: a greater than or equal to b\n",
    "- Comparison operators return values True or False.\n",
    "- Boolean operators:\n",
    "    - \"and\", \"or\", \"not\""
   ]
  },
  {
   "cell_type": "code",
   "execution_count": 3,
   "metadata": {},
   "outputs": [
    {
     "data": {
      "text/plain": [
       "True"
      ]
     },
     "execution_count": 3,
     "metadata": {},
     "output_type": "execute_result"
    }
   ],
   "source": [
    "x = 4\n",
    "(x < 6) and (x > 2)"
   ]
  },
  {
   "cell_type": "markdown",
   "metadata": {},
   "source": [
    "- Boolean operators should be used when you want to compute truth or falsehood of an entire statement.\n",
    "- Identity and membership operators:\n",
    "    - a is b: True if a and b are identical objects\n",
    "    - a is not b: True is a and b are not identical objects\n",
    "    - a in b: True is a is a member of b\n",
    "    - a not in b: True is a is not a member of b\n",
    "- The \"is\" operator checks whether two variables are pointing to the same object, rather than referring to what the object contains.\n",
    "    - \"is\" does not equal \"==\""
   ]
  }
 ],
 "metadata": {
  "kernelspec": {
   "display_name": "Python 3",
   "language": "python",
   "name": "python3"
  },
  "language_info": {
   "codemirror_mode": {
    "name": "ipython",
    "version": 3
   },
   "file_extension": ".py",
   "mimetype": "text/x-python",
   "name": "python",
   "nbconvert_exporter": "python",
   "pygments_lexer": "ipython3",
   "version": "3.8.3"
  }
 },
 "nbformat": 4,
 "nbformat_minor": 4
}
