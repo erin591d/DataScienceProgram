{
 "cells": [
  {
   "cell_type": "markdown",
   "metadata": {},
   "source": [
    "# Introduction"
   ]
  },
  {
   "cell_type": "markdown",
   "metadata": {},
   "source": [
    "My name is Erin McConnell and I am a senior Applied Math and Statistics double major at the University of Connecticut. I am planning on applying to graduate school for Data Science in the upcoming semester and hopefully pursue a career in the Data Science field as well. I currently live in Sarasota, Florida, but I grew up in Bermuda where I lived for 11 years. Some of my hobbies include reading, dancing, singing, playing the piano, and working out. I also have a miniature labradoodle named Popcorn! \n",
    "\n",
    "To me, Data Science is the analysis of groups of data and conveying those analyses to the general public to help people better understand a certain topic or question. I'm the type of person who likes to help others and if I can use my skills in Data Science to help others understand complex issues that they normally wouldn't, I would be where I want to be in life."
   ]
  },
  {
   "cell_type": "code",
   "execution_count": null,
   "metadata": {},
   "outputs": [],
   "source": []
  }
 ],
 "metadata": {
  "kernelspec": {
   "display_name": "Python 3",
   "language": "python",
   "name": "python3"
  },
  "language_info": {
   "codemirror_mode": {
    "name": "ipython",
    "version": 3
   },
   "file_extension": ".py",
   "mimetype": "text/x-python",
   "name": "python",
   "nbconvert_exporter": "python",
   "pygments_lexer": "ipython3",
   "version": "3.8.3"
  }
 },
 "nbformat": 4,
 "nbformat_minor": 4
}
