{
 "cells": [
  {
   "cell_type": "code",
   "execution_count": 1,
   "metadata": {},
   "outputs": [
    {
     "name": "stdout",
     "output_type": "stream",
     "text": [
      "zzzazz\n",
      "2\n",
      "zzazz\n"
     ]
    }
   ],
   "source": [
    "#!/bin/python3\n",
    "\n",
    "import math\n",
    "import os\n",
    "import random\n",
    "import re\n",
    "import sys\n",
    "\n",
    "\n",
    "\n",
    "#\n",
    "# Complete the 'getLargestString' function below.\n",
    "#\n",
    "# The function is expected to return a STRING.\n",
    "# The function accepts following parameters:\n",
    "#  1. STRING s\n",
    "#  2. INTEGER k\n",
    "#\n",
    "\n",
    "def getLargestString(s, k):\n",
    "    s = sorted(s)\n",
    "    s = s[::-1]\n",
    "    s = \"\".join(s)\n",
    "    new_s = \"\".join(s[0])\n",
    "    count = 1\n",
    "    for i in range(1, len(s)):\n",
    "        if count < k:\n",
    "            new_s += s[i]\n",
    "            if s[i] == new_s[i-1]:\n",
    "                count += 1\n",
    "            else:\n",
    "                count = 1\n",
    "        else:\n",
    "            found = False\n",
    "            for j in range(i, len(s)):\n",
    "                if s[i] != s[j]:\n",
    "                    new_s += s[j]\n",
    "                    if new_s[i] == new_s[i-1]:\n",
    "                        count += 1\n",
    "                    else:\n",
    "                        count = 1\n",
    "                    s = list(s)\n",
    "                    s[j] = s[i]\n",
    "                    s = \"\".join(s)\n",
    "                    found = True\n",
    "                    break\n",
    "            if found == False:\n",
    "                return new_s\n",
    "    return new_s\n",
    "\n",
    "s = input()\n",
    "k = int(input().strip())\n",
    "result = getLargestString(s, k)\n",
    "print(result)"
   ]
  },
  {
   "cell_type": "code",
   "execution_count": null,
   "metadata": {},
   "outputs": [],
   "source": []
  }
 ],
 "metadata": {
  "kernelspec": {
   "display_name": "Python 3",
   "language": "python",
   "name": "python3"
  },
  "language_info": {
   "codemirror_mode": {
    "name": "ipython",
    "version": 3
   },
   "file_extension": ".py",
   "mimetype": "text/x-python",
   "name": "python",
   "nbconvert_exporter": "python",
   "pygments_lexer": "ipython3",
   "version": "3.8.3"
  }
 },
 "nbformat": 4,
 "nbformat_minor": 4
}
