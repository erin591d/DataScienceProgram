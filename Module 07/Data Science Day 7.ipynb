{
 "cells": [
  {
   "cell_type": "markdown",
   "metadata": {},
   "source": [
    "# Data Science Day 7"
   ]
  },
  {
   "cell_type": "markdown",
   "metadata": {},
   "source": [
    "## Objects and Classes"
   ]
  },
  {
   "cell_type": "markdown",
   "metadata": {},
   "source": [
    "- Python is an object-oriented programming language\n",
    "- Every value in Python is an object\n",
    "- Objects are a way to combine data and the functions that handle that data\n",
    "- This combination is called encapsulation\n",
    "- The data items and functions of objects are called attributes, and in particular, the function attributes are called methods\n",
    "- For example, the operator + on integers calls a method of integers, and the operator + on strings calls a method of strings\n",
    "- Functions, modules, methods, classes, etc. are all first class objects\n",
    "    - This means that these objects can be:\n",
    "        - Stored in a container\n",
    "        - Passed to a function as a parameter\n",
    "        - Returned by a function\n",
    "        - Bound to a variable\n",
    "- One can access an attribute of an object using the dot operator: object.attribute\n",
    "- For example, if L is a list, we can refer to the method append with L.append\n",
    "    - The method call can look, for instance, like this: L.append(4)\n",
    "- Because modules are also objects in Python, we can interpret the expression math.pi as accessing the data attribute pi of module object math\n",
    "- Numbers like 2 and 100 are instances of type int\n",
    "    - Similarly, \"hello\" is an instance of type str\n",
    "    - When we write s=set(), we are actually creating a new instance of type set, and bind the resulting instance object to s\n",
    "- A user can define his own data types\n",
    "    - These are called classes\n",
    "- A user can call these classes like they were functions, and they return a new instance object of that type\n",
    "- Classes can be thought of as recipes for creating objects\n",
    "    - For example:"
   ]
  },
  {
   "cell_type": "code",
   "execution_count": 1,
   "metadata": {},
   "outputs": [],
   "source": [
    "class MyClass(object):\n",
    "    \"\"\"Documentation string of the class\"\"\"\n",
    "    \n",
    "    def __init__(self, param1, param2):\n",
    "        \"This initializes an instance of type ClassName\"\n",
    "        self.b = param1 #creates an instance attribute\n",
    "        c = param2 #creates a local variable of the function\n",
    "        #statements ...\n",
    "        \n",
    "    def f(self, param1):\n",
    "        \"\"\"This is a method of the class\"\"\"\n",
    "        #some statements\n",
    "    \n",
    "    a = 1 #this creates a class attribute"
   ]
  },
  {
   "cell_type": "markdown",
   "metadata": {},
   "source": [
    "- The class definition starts with the class statement\n",
    "    - With this statement, you give a name for your new type, and in parentheses list the base classes of your class\n",
    "- The next indented block is the class body\n",
    "- After the whole class body is read, a new type is created\n",
    "- Note that no instances are created yet\n",
    "- All the attributes and methods of the class are defined in the class body\n",
    "- The example class has two methods: __init__ and f\n",
    "    - Note that their first parameter is special: self\n",
    "    - __init__ does the initialization when an instance is created\n",
    "    - At instantiation with i=MyClass(2,3) the parameters param1 and param2 are bound to values 2 and 3, respectively\n",
    "    - Now that we have an instance i, we can call its method f with the dot operator: i.f(1)\n",
    "    - The parameters of f are bound in the following way: self=i and param1=1\n",
    "- There are differences in how an assignment inside a class body creates variable\n",
    "    - The attribute a is at class level and is common for all instances of the class MyClass\n",
    "    - The variable c is a local variable of the function __init__ and cannot be used outside the function\n",
    "    - The attribute b is specific to each instance of MyClass\n",
    "    - Note that self refers to the current instance\n",
    "    - For objects x=MyClass(1,0) and y=MyClass(2,0) we have x.b != y.b, but x.a == y.a\n",
    "- All methods of a class have a mandatory first parameter which refers to the instance on which you called the method\n",
    "    - This parameter is usually named self\n",
    "    - If you want to access the class attribute a from a method of the class, use the fully qualified form MyClass.a\n",
    "    - The methods whose names both begin and end with two underscores are called special methods\n",
    "    - For example, __init__ is a special method"
   ]
  },
  {
   "cell_type": "markdown",
   "metadata": {},
   "source": [
    "### Instances"
   ]
  },
  {
   "cell_type": "markdown",
   "metadata": {},
   "source": [
    "- We can create instances by calling a class like it were a function: i = ClassName(...)\n",
    "- Then parameters given in the call will be passed to the __init__ function\n",
    "- In the __init__ method you can create the instance specific attributes\n",
    "- If __init__ is missing, we can create an instance without giving any parameters\n",
    "    - As a consequence, the instance has no attributes\n",
    "- Later you can (re)bind attributes with the assignment instance.attribute = new value\n",
    "- If that attribute did not exist before, it will be added to the instance with the assigned value\n",
    "- We can add or delete attributes to/from an existing instance\n",
    "- This is possible because the attribute names and the corresponding values are actually stored in a dictionary\n",
    "    - This diciontary is also an attribute of the instance and is called dict\n",
    "- Another standard attribute is called __class__\n",
    "    - This attribute stores the class of the instance, that is, the type of the object"
   ]
  },
  {
   "cell_type": "markdown",
   "metadata": {},
   "source": [
    "### Attribute Lookup"
   ]
  },
  {
   "cell_type": "markdown",
   "metadata": {},
   "source": [
    "- Suppose x is an instance of classX, and we want to read an attribute x.a\n",
    "- The lookup has three phases:\n",
    "    - First, it is checked whether the attribute a is an attribute of the instance x\n",
    "    - If not, then it is checked whether a is a class attribute of x's class X\n",
    "    - If not, then the base of classes of X are checked\n",
    "- If instead we want to bind the attribute a, things are much simpler\n",
    "    - x.a = value will set the instance attribute\n",
    "    - X.a = value will set the class attribute\n",
    "- Note that is a base of X, the class X, and the instance x each have an attribute called a, then x.a hides X.a, and X.a hides the attribute of the base class"
   ]
  },
  {
   "cell_type": "markdown",
   "metadata": {},
   "source": [
    "## Examples of Objects and Classes"
   ]
  },
  {
   "cell_type": "markdown",
   "metadata": {},
   "source": [
    "- Objects are an encapsulation of variables and functions into a single entity\n",
    "- Objects get their variables and functions from classes\n",
    "- Classes are essentially a template to create your objects\n",
    "- A very basic class would look something like this:"
   ]
  },
  {
   "cell_type": "code",
   "execution_count": 1,
   "metadata": {},
   "outputs": [],
   "source": [
    "class MyClass:\n",
    "    variable = \"blah\"\n",
    "    \n",
    "    def function(self):\n",
    "        print(\"This is a message inside the class.\")"
   ]
  },
  {
   "cell_type": "markdown",
   "metadata": {},
   "source": [
    "- To assign the above class(template) to an object, you would do the following:"
   ]
  },
  {
   "cell_type": "code",
   "execution_count": 2,
   "metadata": {},
   "outputs": [
    {
     "name": "stdout",
     "output_type": "stream",
     "text": [
      "<__main__.MyClass object at 0x10b8f0340>\n"
     ]
    }
   ],
   "source": [
    "class MyClass:\n",
    "    variable = \"blah\"\n",
    "    \n",
    "    def function(self):\n",
    "        print(\"This is a message inside the class.\")\n",
    "        \n",
    "myobjectx = MyClass()\n",
    "print(myobjectx)"
   ]
  },
  {
   "cell_type": "markdown",
   "metadata": {},
   "source": [
    "- The variable \"myobjectx\" holds an object of the class \"MyClass\" that contains the variable and the function defined within the class called \"MyClass\""
   ]
  },
  {
   "cell_type": "markdown",
   "metadata": {},
   "source": [
    "### Accessing Object Variables"
   ]
  },
  {
   "cell_type": "markdown",
   "metadata": {},
   "source": [
    "- To access the variable inside of the newly create object \"myobjectx\", you would do the following:"
   ]
  },
  {
   "cell_type": "code",
   "execution_count": 3,
   "metadata": {},
   "outputs": [
    {
     "name": "stdout",
     "output_type": "stream",
     "text": [
      "<__main__.MyClass object at 0x10b8f0e20>\n"
     ]
    }
   ],
   "source": [
    "class MyClass:\n",
    "    variable = \"Is it Jackson? Or is it Gary?\"\n",
    "    \n",
    "    def function(self):\n",
    "        print(\"This is a message inside the class.\")\n",
    "        \n",
    "myobjectx = MyClass()\n",
    "\n",
    "myobjectx.variable\n",
    "print(myobjectx)"
   ]
  },
  {
   "cell_type": "markdown",
   "metadata": {},
   "source": [
    "- For instance, the below would output the string \"blah\":"
   ]
  },
  {
   "cell_type": "code",
   "execution_count": 4,
   "metadata": {},
   "outputs": [
    {
     "name": "stdout",
     "output_type": "stream",
     "text": [
      "blah\n"
     ]
    }
   ],
   "source": [
    "class MyClass:\n",
    "    variable = \"blah\"\n",
    "    \n",
    "    def function(self):\n",
    "        print(\"This is a message inside the class.\")\n",
    "        \n",
    "myobjectx = MyClass()\n",
    "\n",
    "print(myobjectx.variable)"
   ]
  },
  {
   "cell_type": "markdown",
   "metadata": {},
   "source": [
    "- You can create multiple different objects that are of the same class (have the same variables and functions defined)\n",
    "- However, each object contains independent copies of the variables defined in the class\n",
    "- For instance, if we were to define another object with the \"MyClass\" class and then change the string in the variable above:"
   ]
  },
  {
   "cell_type": "code",
   "execution_count": 5,
   "metadata": {},
   "outputs": [
    {
     "name": "stdout",
     "output_type": "stream",
     "text": [
      "blah\n",
      "yackity\n"
     ]
    }
   ],
   "source": [
    "class MyClass:\n",
    "    variable = \"blah\"\n",
    "    \n",
    "    def function(self):\n",
    "        print(\"This is a message inside the class.\")\n",
    "        \n",
    "myobjectx = MyClass()\n",
    "myobjecty = MyClass()\n",
    "\n",
    "myobjecty.variable = \"yackity\"\n",
    "\n",
    "# then print out both values\n",
    "print(myobjectx.variable)\n",
    "print(myobjecty.variable)"
   ]
  },
  {
   "cell_type": "markdown",
   "metadata": {},
   "source": [
    "### Accessing Object Functions"
   ]
  },
  {
   "cell_type": "markdown",
   "metadata": {},
   "source": [
    "- To access a function inside of an object you use notation similar to accessing a variable:"
   ]
  },
  {
   "cell_type": "code",
   "execution_count": 6,
   "metadata": {},
   "outputs": [
    {
     "name": "stdout",
     "output_type": "stream",
     "text": [
      "This is a message inside the class.\n"
     ]
    }
   ],
   "source": [
    "class MyClass:\n",
    "    variable = \"blah\"\n",
    "    \n",
    "    def function(self):\n",
    "        print(\"This is a message inside the class.\")\n",
    "        \n",
    "myobjectx = MyClass()\n",
    "\n",
    "myobjectx.function()"
   ]
  },
  {
   "cell_type": "markdown",
   "metadata": {},
   "source": [
    "- Which of the following represents a distinctly identifiable entity in the real world?\n",
    "    - A class\n",
    "    - An object\n",
    "    - A method\n",
    "    - A data field\n",
    "- An object"
   ]
  },
  {
   "cell_type": "markdown",
   "metadata": {},
   "source": [
    "- Which of the following represents a template, blueprint, or contract that defines objects of the same type?\n",
    "    - A class\n",
    "    - An object\n",
    "    - A method\n",
    "    - A data field\n",
    "- A class"
   ]
  },
  {
   "cell_type": "markdown",
   "metadata": {},
   "source": [
    "- Which of the following key words mark the beginning of the class definition?\n",
    "    - def\n",
    "    - return\n",
    "    - class\n",
    "    - All of the above\n",
    "- class"
   ]
  },
  {
   "cell_type": "markdown",
   "metadata": {},
   "source": [
    "- Which of the following is required to create a new instance of the class?\n",
    "    - A constructor\n",
    "    - A class\n",
    "    - A value-returning method\n",
    "    - A None method\n",
    "- A constructor"
   ]
  },
  {
   "cell_type": "markdown",
   "metadata": {},
   "source": [
    "- Which of the following statements is most accurate for the declaration x = Circle()?\n",
    "    - x contains an int value\n",
    "    - x contains an object of the Circle type\n",
    "    - x contains a reference to a Circle object\n",
    "    - You can assign an int value to x\n",
    "- x contains a reference to a Circle object"
   ]
  },
  {
   "cell_type": "markdown",
   "metadata": {},
   "source": [
    "- What will be the output of the following code snippet?"
   ]
  },
  {
   "cell_type": "code",
   "execution_count": 7,
   "metadata": {},
   "outputs": [
    {
     "name": "stdout",
     "output_type": "stream",
     "text": [
      "123\n"
     ]
    }
   ],
   "source": [
    "class Sales:\n",
    "    def __init__(self, id):\n",
    "        self.id = id\n",
    "        id = 100\n",
    "        \n",
    "val = Sales(123)\n",
    "print(val.id)"
   ]
  },
  {
   "cell_type": "markdown",
   "metadata": {},
   "source": [
    "- Which of the following statements are correct?\n",
    "    - A reference variable is an object\n",
    "    - A reference variable refers to an object\n",
    "    - An object may contain other objects\n",
    "    - An object can contain the references to other objects\n",
    "- A reference variable refers to an object, an object can contain the references to other objects"
   ]
  },
  {
   "cell_type": "markdown",
   "metadata": {},
   "source": [
    "- What will be the output of the following?"
   ]
  },
  {
   "cell_type": "code",
   "execution_count": 8,
   "metadata": {},
   "outputs": [
    {
     "name": "stdout",
     "output_type": "stream",
     "text": [
      "Welcome\n"
     ]
    }
   ],
   "source": [
    "s = \"\\t\\tWelcome\\n\"\n",
    "print(s.strip())"
   ]
  },
  {
   "cell_type": "markdown",
   "metadata": {},
   "source": [
    "- What will be the output of the following code snippet?"
   ]
  },
  {
   "cell_type": "code",
   "execution_count": 9,
   "metadata": {},
   "outputs": [
    {
     "name": "stdout",
     "output_type": "stream",
     "text": [
      "51\n"
     ]
    }
   ],
   "source": [
    "class Person:\n",
    "    def __init__(self, id):\n",
    "        self.id = id\n",
    "\n",
    "sam = Person(100)\n",
    "\n",
    "sam.__dict__['age'] = 49\n",
    "\n",
    "print(sam.age + len(sam.__dict__))"
   ]
  },
  {
   "cell_type": "markdown",
   "metadata": {},
   "source": [
    "- Which of the following can be used to invoke the __init__ method in B from A, where A is a subclass of B?\n",
    "    - super().__init__()\n",
    "    - super().__init__(self)\n",
    "    - B.__init__()\n",
    "    - B.__init__(self)\n",
    "- super().__init__(), B.__init__(self)"
   ]
  }
 ],
 "metadata": {
  "kernelspec": {
   "display_name": "Python 3",
   "language": "python",
   "name": "python3"
  },
  "language_info": {
   "codemirror_mode": {
    "name": "ipython",
    "version": 3
   },
   "file_extension": ".py",
   "mimetype": "text/x-python",
   "name": "python",
   "nbconvert_exporter": "python",
   "pygments_lexer": "ipython3",
   "version": "3.8.3"
  }
 },
 "nbformat": 4,
 "nbformat_minor": 4
}
