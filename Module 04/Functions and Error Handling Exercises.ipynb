{
 "cells": [
  {
   "cell_type": "markdown",
   "metadata": {},
   "source": [
    "# Functions and Error Handling Exercises"
   ]
  },
  {
   "cell_type": "markdown",
   "metadata": {},
   "source": [
    "## Exercise 1"
   ]
  },
  {
   "cell_type": "code",
   "execution_count": 28,
   "metadata": {},
   "outputs": [],
   "source": [
    "def is_leap(year):\n",
    "    leap = False\n",
    "    if (year % 4 == 0):\n",
    "        leap = True\n",
    "        if (year % 100 == 0):\n",
    "            leap = False\n",
    "            if (year % 400 == 0):\n",
    "               leap = True \n",
    "    return leap"
   ]
  },
  {
   "cell_type": "markdown",
   "metadata": {},
   "source": [
    "## Exercise 2"
   ]
  },
  {
   "cell_type": "code",
   "execution_count": 48,
   "metadata": {},
   "outputs": [
    {
     "name": "stdout",
     "output_type": "stream",
     "text": [
      "0\n"
     ]
    }
   ],
   "source": [
    "line = int(input())\n",
    "\n",
    "for i in range(0,line):\n",
    "    both = input().split(' ')\n",
    "    try:\n",
    "        print(int(int(both[0])/int(both[1])))\n",
    "    except ZeroDivisionError:\n",
    "        print(\"Error Code: integer division or modulo by zero\")\n",
    "    except ValueError:\n",
    "        print(\"Error Code: invalid literal for int() with base 10: '$'\")"
   ]
  }
 ],
 "metadata": {
  "kernelspec": {
   "display_name": "Python 3",
   "language": "python",
   "name": "python3"
  },
  "language_info": {
   "codemirror_mode": {
    "name": "ipython",
    "version": 3
   },
   "file_extension": ".py",
   "mimetype": "text/x-python",
   "name": "python",
   "nbconvert_exporter": "python",
   "pygments_lexer": "ipython3",
   "version": "3.8.3"
  }
 },
 "nbformat": 4,
 "nbformat_minor": 4
}
