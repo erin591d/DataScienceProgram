{
 "cells": [
  {
   "cell_type": "markdown",
   "metadata": {},
   "source": [
    "# Summary"
   ]
  },
  {
   "cell_type": "markdown",
   "metadata": {},
   "source": [
    "## Module 1"
   ]
  },
  {
   "cell_type": "markdown",
   "metadata": {},
   "source": [
    "### Basic Python Syntax"
   ]
  },
  {
   "cell_type": "markdown",
   "metadata": {},
   "source": [
    "- Comments are marked by #\n",
    "- End of the line terminates a statement\n",
    "    - A statement can also be terminated by a semicolon (;)\n",
    "- Whitespace matters - be sure to indent properly\n",
    "    - Code blocks are denoted by indentation and are always preceded by a colon (:) on the previous line\n",
    "    - However, whitespace within lines doesn't matter\n",
    "- Parentheses are used for grouping or calling\n",
    "    - They can be used to group statements or mathematical operations\n",
    "    - They can also be used to indicate a function is being called"
   ]
  },
  {
   "cell_type": "markdown",
   "metadata": {},
   "source": [
    "### Variables and Objects"
   ]
  },
  {
   "cell_type": "markdown",
   "metadata": {},
   "source": [
    "- Variables in Python are pointers\n",
    "    - To assign a variable, put a variable name to the left of an equal sign (=)\n",
    "    - Variable names can point to objects of any type\n",
    "    - When two variables point to the same object, if you modify the object via one variable, the other variable's object will also be modified\n",
    "- Everything is an object\n",
    "    - Python has types that are linked to the objects themselves, not the variable names\n",
    "    - An object is an entity that contains data along with associated metadata and/or functionality\n",
    "    - Every entity has some metadata (or attributes) and functionality (or methods)\n",
    "        - These attributes and methods are accessed using the dot syntax\n",
    "    - Methods are like attributes, except they are functions you can call using a set of parentheses\n",
    "    - Attributes and methods are also objects with their own information"
   ]
  },
  {
   "cell_type": "markdown",
   "metadata": {},
   "source": [
    "### Operators"
   ]
  },
  {
   "cell_type": "markdown",
   "metadata": {},
   "source": [
    "- Aritmetic operations\n",
    "    - Addition: a + b\n",
    "    - Subtraction: a - b\n",
    "    - Multiplication: a * b\n",
    "    - True division: a / b\n",
    "    - Floor division (removes fractional parts): a // b\n",
    "    - Modulus (integer remainder after division of a by b): a % b\n",
    "    - Exponentiation: a ** b\n",
    "    - Negation: -a\n",
    "    - Matrix product: a @ b\n",
    "- Bitwise operations\n",
    "    - Bitwise AND: a & b\n",
    "    - Bitwise OR: a | b\n",
    "    - Bitwise XOR: a ^ b\n",
    "    - Bit shift left: a << b\n",
    "    - Bit shift right: a >> b\n",
    "    - Bitwise NOT: ~a\n",
    "- Assignment operations\n",
    "    - To update a variable with a new value, you can combine the operation and the assignment: a += b, a -= b, etc. which are equivalent to the corresponding operation followed by the assignment.\n",
    "- Comparison operations: return values True or False\n",
    "    - a == b: a equal to b\n",
    "    - a < b: a less than b\n",
    "    - a <= b: a less than or equal to b\n",
    "    - a != b: a not equal to b\n",
    "    - a > b: a greater than b\n",
    "    - a >= b: a greater than or equal to b\n",
    "- Boolean operations: \"and\", \"or\", \"not\"\n",
    "    - Boolean operators should be used when you want to compute truth or falsehood of an entire statement.\n",
    "- Identity and membership operaters\n",
    "    - a is b: True if a and b are identical objects\n",
    "        - The \"is\" operator checks whether two variables are pointing to the same object, rather than referring to what the object contains (\"is\" does not equal \"==\").\n",
    "    - a is not b: True is a and b are not identical objects\n",
    "    - a in b: True is a is a member of b\n",
    "    - a not in b: True is a is not a member of b"
   ]
  },
  {
   "cell_type": "markdown",
   "metadata": {},
   "source": [
    "## Module 2"
   ]
  },
  {
   "cell_type": "markdown",
   "metadata": {},
   "source": [
    "### Data Structures and Datatypes"
   ]
  },
  {
   "cell_type": "markdown",
   "metadata": {},
   "source": [
    "- Type: int, e.g., x = 1 (integers i.e., whole numbers)\n",
    "- Type: float, e.g., x = 1.0 (floating-point numbers i.e., real numbers)\n",
    "    - Floating-point precision is limited, which can cause equality tests to be unstable\n",
    "    - This is due to rounding errors as floating-point arithmetic is approximate\n",
    "- Type: complex, e.g., x = 1 + 2j (complex numbers i.e., numbers with real and imaginary part)\n",
    "- Type: bool, e.g., x = True (Boolean: True/False values)\n",
    "    - Boolean values are case sensitive: True and False must be capitalized!\n",
    "    - Booleans can also be constructed using the bool() object constructor: e.g., any numeric type is False if equal to zero and True otherwise\n",
    "    - For strings, bool(s) is False for empty strings and True otherwise\n",
    "- Type: str, e.g., x = 'abc' (string: characters or text)\n",
    "- Type: NoneType, e.g., x = None (special object indicating nulls)\n",
    "    - Any function in Python with no return value is returning None\n",
    "- Type: list, e.g., [1, 2, 3] (ordered colletion)\n",
    "    - The basic ordered and mutable data collection type in Python\n",
    "    - Defined with comma-separated values between square brackets\n",
    "    - Can contain objects of any type, or even a mix of types\n",
    "    - List indexing and slicing\n",
    "        - Access to elements in compound types can be done through indexing for single elements, and slicing for multiple elements\n",
    "        - Both are indicated by a square-bracket syntax\n",
    "        - Python uses zero-based indexing\n",
    "        - Elements at the end of the list can be accessed with negative numbers, starting from -1\n",
    "        - Slicing uses a colon to indicate the start point (inclusive) and end point (non-inclusive) of the sub-array\n",
    "        - If we leave out the last index, it defaults to the length of the list\n",
    "        - It is possible to specify a third integer that represents the step size\n",
    "        - It is useful to specify a negative step, which will reverse the array\n",
    "        - Indexing and slicing can be used to set elements as well\n",
    "- Type: tuple, e.g., (1, 2, 3) (immutable ordered colletion)\n",
    "    - Defined with parentheses\n",
    "    - Can also be defined without any brackets at all\n",
    "    - Tuples have a length, and individual elements can be extracted using square-bracket indexing\n",
    "    - Tuples are immutable: once they are created, their size and shape cannot be changed\n",
    "    - Indexing and slicing works for tuples as well\n",
    "- Type: dict, e.g., {'a':1, 'b':2, 'c':3} (unordered (key, value) mapping)\n",
    "    - Extremely flexible mappings of keys to values\n",
    "    - Created via a comma-separated list of key:value pairs within curly braces\n",
    "    - Items are accessed and set via the indexing syntax, except the index is not a zero-based order but valid key in the dictionary\n",
    "    - New items can be added to the dictionary using indexing\n",
    "    - Dictionaries do not maintain any sense of order for the input parameters\n",
    "- Type: set, e.g., {1, 2, 3} (unordered collection of unique values)\n",
    "    - Contains unordered collections of unique items\n",
    "    - Use curly brackets of dictionaries"
   ]
  },
  {
   "cell_type": "markdown",
   "metadata": {},
   "source": [
    "### Jupyter Notebook Tables"
   ]
  },
  {
   "cell_type": "markdown",
   "metadata": {},
   "source": [
    "| This | is   |\n",
    "|------|------|\n",
    "|   a  | table|"
   ]
  },
  {
   "cell_type": "markdown",
   "metadata": {},
   "source": [
    "| This | is   |\n",
    "|------|------|\n",
    "|   a  | table|"
   ]
  },
  {
   "cell_type": "markdown",
   "metadata": {},
   "source": [
    "## Module 3"
   ]
  },
  {
   "cell_type": "markdown",
   "metadata": {},
   "source": [
    "### Control Flow"
   ]
  },
  {
   "cell_type": "markdown",
   "metadata": {},
   "source": [
    "- Conditional Statements (if, elif, else): allow the programmer to execute certain pieces of code depending on some Boolean condition"
   ]
  },
  {
   "cell_type": "code",
   "execution_count": 1,
   "metadata": {},
   "outputs": [
    {
     "name": "stdout",
     "output_type": "stream",
     "text": [
      "0 is zero\n"
     ]
    }
   ],
   "source": [
    "x = 0\n",
    "\n",
    "if x == 0:\n",
    "    print(x, \"is zero\")\n",
    "elif x > 0:\n",
    "    print(x, \"is positive\")\n",
    "elif x < 0:\n",
    "    print(x, \"is negative\")\n",
    "else:\n",
    "    print(x, \"is unlike anything I have ever seen ...\")"
   ]
  },
  {
   "cell_type": "markdown",
   "metadata": {},
   "source": [
    "- Note the use of colons (:) and whitespace to denote separate blocks of code\n",
    "- elif means \"else if\""
   ]
  },
  {
   "cell_type": "markdown",
   "metadata": {},
   "source": [
    "- for loops: a way to repeatedly execute some code statement"
   ]
  },
  {
   "cell_type": "code",
   "execution_count": 2,
   "metadata": {},
   "outputs": [
    {
     "name": "stdout",
     "output_type": "stream",
     "text": [
      "2 3 5 7 "
     ]
    }
   ],
   "source": [
    "for N in [2, 3, 5, 7]:\n",
    "    print(N, end=' ') #print all on same line"
   ]
  },
  {
   "cell_type": "markdown",
   "metadata": {},
   "source": [
    "- In a for loop, we specify the variable we want to use, the sequence we want to loop over, and use the \"in\" operator to link them together in an intuitive and readable way\n",
    "    - The object to the right of the \"in\" can be any Python iterator\n",
    "    - An iterator can be thought of as a generalized sequence\n",
    "    - One of the most commonly used iterators is the range object, which generates a sequence of numbers\n",
    "        - Note that the range starts at 0 by default, and that by convention, the top of the range is not included in the output"
   ]
  },
  {
   "cell_type": "markdown",
   "metadata": {},
   "source": [
    "- while loops: iterate until some condition is met"
   ]
  },
  {
   "cell_type": "code",
   "execution_count": 3,
   "metadata": {},
   "outputs": [
    {
     "name": "stdout",
     "output_type": "stream",
     "text": [
      "0 1 2 3 4 5 6 7 8 9 "
     ]
    }
   ],
   "source": [
    "i = 0\n",
    "while i < 10:\n",
    "    print(i, end=' ')\n",
    "    i += 1"
   ]
  },
  {
   "cell_type": "markdown",
   "metadata": {},
   "source": [
    "- The argument of the while loop is evaluated as a Boolean statement, and the loop is executed until the statement evaluates to False"
   ]
  },
  {
   "cell_type": "markdown",
   "metadata": {},
   "source": [
    "- break and continue\n",
    "    - The break statement breaks out of the loop entirely\n",
    "    - The continue statement skips the remainder of the current loop, and goes to the next iteration\n",
    "    - These can be used in both for and while loops"
   ]
  },
  {
   "cell_type": "markdown",
   "metadata": {},
   "source": [
    "- Loops with an else block\n",
    "    - The else block executes if all the if and elif statements evaluate to False\n",
    "    - The else block is executed only if the loop ends naturally, without encountering a break statement"
   ]
  },
  {
   "cell_type": "markdown",
   "metadata": {},
   "source": [
    "## Module 4"
   ]
  },
  {
   "cell_type": "markdown",
   "metadata": {},
   "source": [
    "### Functions"
   ]
  },
  {
   "cell_type": "markdown",
   "metadata": {},
   "source": [
    "- A function is defined with the def statement"
   ]
  },
  {
   "cell_type": "code",
   "execution_count": 4,
   "metadata": {},
   "outputs": [
    {
     "name": "stdout",
     "output_type": "stream",
     "text": [
      "8 2.4 abcabc\n"
     ]
    }
   ],
   "source": [
    "def double(x):\n",
    "    \"This function multiplies its argument by two.\"\n",
    "    return x*2\n",
    "print(double(4), double(1.2), double(\"abc\")) #it even happens to work for strings!"
   ]
  },
  {
   "cell_type": "markdown",
   "metadata": {},
   "source": [
    "- To use a function, you must use parentheses"
   ]
  },
  {
   "cell_type": "code",
   "execution_count": 11,
   "metadata": {},
   "outputs": [
    {
     "name": "stdout",
     "output_type": "stream",
     "text": [
      "abc\n"
     ]
    }
   ],
   "source": [
    "print('abc')"
   ]
  },
  {
   "cell_type": "markdown",
   "metadata": {},
   "source": [
    "- The function's name is print, and the function's argument is 'abc'\n",
    "- In addition to arguments, there are keyword arguments that are specified by name that must come at the end of a function call when used with non-keyword arguments"
   ]
  },
  {
   "cell_type": "markdown",
   "metadata": {},
   "source": [
    "- A function call can also have named arguments"
   ]
  },
  {
   "cell_type": "code",
   "execution_count": 10,
   "metadata": {},
   "outputs": [
    {
     "name": "stdout",
     "output_type": "stream",
     "text": [
      "First: 5 Second: 8 Third: 7\n"
     ]
    }
   ],
   "source": [
    "def named(a, b, c):\n",
    "    print(\"First:\", a, \"Second:\", b, \"Third:\", c)\n",
    "named(5, c=7, b=8)"
   ]
  },
  {
   "cell_type": "markdown",
   "metadata": {},
   "source": [
    "- Note that the named arguments didn't need to be in the same order as in the function definition, but the named arguments must come after all other arguments\n",
    "    - For example, named(a=5, 7, 8) is illegal\n",
    "- One can also specify an optional parameter by giving the parameter a default value\n",
    "    - The parameters that have default values must come after the parameters that don't\n",
    "    - If some default values don't suit us, we can give them in the function call using the name of the parameter\n",
    "    - We do not need to specify all the parameters with default values, just the ones we want to change"
   ]
  },
  {
   "cell_type": "markdown",
   "metadata": {},
   "source": [
    "- Sometimes you might wish to write a function that you don't initially know how many arguments the user will pass\n",
    "    - In this case, you can use the special form * args and ** kwargs to catch all arguments that are passed."
   ]
  },
  {
   "cell_type": "code",
   "execution_count": 12,
   "metadata": {},
   "outputs": [
    {
     "name": "stdout",
     "output_type": "stream",
     "text": [
      "args = (1, 2, 3)\n",
      "kwargs =  {'a': 4, 'b': 5}\n"
     ]
    }
   ],
   "source": [
    "def catch_all(*args, **kwargs):\n",
    "    print(\"args =\", args)\n",
    "    print(\"kwargs = \", kwargs)\n",
    "catch_all(1, 2, 3, a=4, b=5)"
   ]
  },
  {
   "cell_type": "markdown",
   "metadata": {},
   "source": [
    "- The operative difference is the asterisk characters: a single * before a variable means \"expand this as a sequence\", while a double ** before a variable means \"expand this as a dictionary\""
   ]
  },
  {
   "cell_type": "markdown",
   "metadata": {},
   "source": [
    "- To define short, one-off functions, use the lambda statement"
   ]
  },
  {
   "cell_type": "code",
   "execution_count": 13,
   "metadata": {},
   "outputs": [
    {
     "data": {
      "text/plain": [
       "3"
      ]
     },
     "execution_count": 13,
     "metadata": {},
     "output_type": "execute_result"
    }
   ],
   "source": [
    "add = lambda x, y: x + y\n",
    "add(1, 2)"
   ]
  },
  {
   "cell_type": "markdown",
   "metadata": {},
   "source": [
    "- This is equivalent to:"
   ]
  },
  {
   "cell_type": "code",
   "execution_count": 14,
   "metadata": {},
   "outputs": [],
   "source": [
    "def add(x, y):\n",
    "    return x + y"
   ]
  },
  {
   "cell_type": "markdown",
   "metadata": {},
   "source": [
    "- The reasoning for using an anonymous function is that everything is an object in Python, even functions themselves which means that functions can be passed as arguments to functions"
   ]
  }
 ],
 "metadata": {
  "kernelspec": {
   "display_name": "Python 3",
   "language": "python",
   "name": "python3"
  },
  "language_info": {
   "codemirror_mode": {
    "name": "ipython",
    "version": 3
   },
   "file_extension": ".py",
   "mimetype": "text/x-python",
   "name": "python",
   "nbconvert_exporter": "python",
   "pygments_lexer": "ipython3",
   "version": "3.8.3"
  }
 },
 "nbformat": 4,
 "nbformat_minor": 4
}
