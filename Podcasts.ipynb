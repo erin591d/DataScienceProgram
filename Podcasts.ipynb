{
 "cells": [
  {
   "cell_type": "markdown",
   "metadata": {},
   "source": [
    "# Podcasts"
   ]
  },
  {
   "cell_type": "markdown",
   "metadata": {},
   "source": [
    "- Module 1: https://podcasts.apple.com/us/podcast/136-the-founder/id941907967?i=1000429850597\n",
    "- Module 2: https://podcasts.apple.com/us/podcast/towards-data-science/id1470952338\n",
    "- Module 4: https://podcasts.apple.com/us/podcast/voting-mechanisms/id890348705?i=1000489647682\n",
    "- Module 5: http://lineardigressions.com/\n",
    "- Module 7: https://podcasts.apple.com/us/podcast/2-do-real-data-science-work/id1499285090"
   ]
  }
 ],
 "metadata": {
  "kernelspec": {
   "display_name": "Python 3",
   "language": "python",
   "name": "python3"
  },
  "language_info": {
   "codemirror_mode": {
    "name": "ipython",
    "version": 3
   },
   "file_extension": ".py",
   "mimetype": "text/x-python",
   "name": "python",
   "nbconvert_exporter": "python",
   "pygments_lexer": "ipython3",
   "version": "3.8.3"
  }
 },
 "nbformat": 4,
 "nbformat_minor": 4
}
