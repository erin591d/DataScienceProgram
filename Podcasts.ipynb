{
 "cells": [
  {
   "cell_type": "markdown",
   "metadata": {},
   "source": [
    "# Podcasts"
   ]
  },
  {
   "cell_type": "markdown",
   "metadata": {},
   "source": [
    "- Module 1: https://podcasts.apple.com/us/podcast/136-the-founder/id941907967?i=1000429850597\n",
    "- Module 2: https://podcasts.apple.com/us/podcast/towards-data-science/id1470952338\n",
    "- Module 4: https://podcasts.apple.com/us/podcast/voting-mechanisms/id890348705?i=1000489647682"
   ]
  }
 ],
 "metadata": {},
 "nbformat": 4,
 "nbformat_minor": 4
}
